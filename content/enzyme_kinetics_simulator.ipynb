{
 "cells": [
  {
   "cell_type": "markdown",
   "metadata": {},
   "source": [
    "# Enyzme Kinetics Example - Michaelis-Menten Kinetics of an Esterase\n",
    "\n",
    "To run the code, press **shift-Enter** in each box/cell."
   ]
  },
  {
   "cell_type": "markdown",
   "metadata": {},
   "source": [
    "### Reaction Equation for Esterase Degrading para-Nitrophenylacetate (pNPA)\n",
    "The reaction catalyzed by esterase can be written as:\n",
    "\n",
    "$$\n",
    "\\text{pNPA} \\xrightarrow{k_{cat},\\ K_m} \\text{para-Nitrophenol (pNP)} + \\text{Acetate}\n",
    "$$\n",
    "\n",
    "Where:\n",
    "- $  k_{cat} $ is the catalytic rate constant (turnover number),\n",
    "- $  K_m  $ is the Michaelis constant.\n"
   ]
  },
  {
   "cell_type": "markdown",
   "metadata": {},
   "source": []
  },
  {
   "cell_type": "code",
   "execution_count": 1,
   "metadata": {},
   "outputs": [],
   "source": [
    "import numpy as np\n",
    "import pandas as pd\n",
    "import matplotlib.pyplot as plt\n",
    "from scipy.optimize import curve_fit"
   ]
  },
  {
   "cell_type": "code",
   "execution_count": 2,
   "metadata": {},
   "outputs": [],
   "source": [
    "# Constants\n",
    "epsilon = 1000  # Molar absorptivity (M^-1 cm^-1)\n",
    "path_length = 1  # Path length (cm)\n",
    "V_max = 100  # Maximum reaction velocity (µM/s)\n",
    "K_m = 50  # Michaelis constant (µM)\n",
    "noise_level = 0.02  # Noise level for absorbance data\n",
    "\n",
    "# Generate time points\n",
    "time = np.linspace(0, 10, 100)  # 0 to 10 seconds, 100 points\n",
    "\n",
    "# Substrate concentrations (µM)\n",
    "substrate_concentrations = np.array([10, 20, 50, 100, 200])"
   ]
  },
  {
   "cell_type": "markdown",
   "metadata": {},
   "source": [
    "### Michaelis-Menten Equation\n",
    "The Michaelis-Menten equation describes the reaction velocity $ v $ as a function of substrate concentration $ [S] $:\n",
    "\n",
    "$$\n",
    "v = \\frac{d[P]}{dt} = \\frac{V_{max} [S]}{K_m + [S]}\n",
    "$$\n",
    "\n",
    "Where:\n",
    "- $ v $ is the reaction velocity,\n",
    "- $ V_{max} $ is the maximum reaction velocity ($ V_{max} = k_{cat} \\cdot [E]_0 $),\n",
    "- $ [S] $ is the substrate concentration,\n",
    "- $ K_m $ is the Michaelis constant.\n",
    "\n"
   ]
  },
  {
   "cell_type": "code",
   "execution_count": 13,
   "metadata": {},
   "outputs": [],
   "source": [
    "# Michaelis-Menten equation\n",
    "def michaelis_menten(S, V_max, K_m):\n",
    "    return (V_max * S) / (K_m + S)"
   ]
  },
  {
   "cell_type": "markdown",
   "metadata": {},
   "source": [
    "### Beer-Lambert Law\n",
    "The Beer-Lambert law relates absorbance $ A $ to the concentration of the product $ [P] $:\n",
    "\n",
    "$$\n",
    "A = \\epsilon \\cdot [P] \\cdot l\n",
    "$$\n",
    "\n",
    "Where:\n",
    "- $ \\epsilon $ is the molar absorptivity ( $ M^{-1} cm $ $ ^{-1} $),\n",
    "- $ [P] $ is the concentration of the product (para-Nitrophenol in this case),\n",
    "- $ l $ is the path length of the cuvette (cm).\n"
   ]
  },
  {
   "cell_type": "code",
   "execution_count": null,
   "metadata": {},
   "outputs": [],
   "source": [
    "# Simulate absorbance data\n",
    "def simulate_absorbance(S, time, epsilon, path_length, noise_level):\n",
    "    P = michaelis_menten(S, V_max, K_m) * time  # Product concentration\n",
    "    A = epsilon * path_length * P  # Absorbance\n",
    "    A_noisy = A + np.random.normal(0, noise_level, size=A.shape)  # Add noise\n",
    "    return A_noisy"
   ]
  },
  {
   "cell_type": "code",
   "execution_count": null,
   "metadata": {},
   "outputs": [],
   "source": [
    "# Generate data for each substrate concentration\n",
    "data = []\n",
    "for S in substrate_concentrations:\n",
    "    A_noisy = simulate_absorbance(S, time, epsilon, path_length, noise_level)\n",
    "    data.append(pd.DataFrame({\n",
    "        'Time': time,\n",
    "        'Absorbance': A_noisy,\n",
    "        'Substrate_Concentration': S\n",
    "    }))\n",
    "\n",
    "# Combine all data into a single DataFrame\n",
    "df = pd.concat(data, ignore_index=True)\n",
    "df"
   ]
  },
  {
   "cell_type": "markdown",
   "metadata": {},
   "source": [
    "### Concentration from Absorbance\n",
    "The concentration of the product $ [P] $ can be calculated from the absorbance $ A $:\n",
    "\n",
    "$$\n",
    "[P] = \\frac{A}{\\epsilon \\cdot l}\n",
    "$$\n"
   ]
  },
  {
   "cell_type": "code",
   "execution_count": null,
   "metadata": {},
   "outputs": [],
   "source": [
    "# Convert absorbance to concentration\n",
    "df['Concentration'] = df['Absorbance'] / (epsilon * path_length)\n",
    "df"
   ]
  },
  {
   "cell_type": "markdown",
   "metadata": {},
   "source": [
    "### Initial Velocity Calculation\n",
    "The initial velocity $ v_0 $ is calculated as the slope of the concentration vs. time plot at $ t = 0 $:\n",
    "\n",
    "$$\n",
    "v_0 = \\frac{d[P]}{dt} \\bigg|_{t=0}\n",
    "$$\n"
   ]
  },
  {
   "cell_type": "code",
   "execution_count": null,
   "metadata": {},
   "outputs": [],
   "source": [
    "# Calculate initial velocities (slope of concentration vs time)\n",
    "initial_velocities = []\n",
    "for S in substrate_concentrations:\n",
    "    subset = df[df['Substrate_Concentration'] == S]\n",
    "    v0 = np.polyfit(subset['Time'], subset['Concentration'], 1)[0]\n",
    "    initial_velocities.append(v0)\n",
    "\n",
    "initial_velocities"
   ]
  },
  {
   "cell_type": "markdown",
   "metadata": {},
   "source": [
    "\n",
    "### Michaelis-Menten Fit\n",
    "The Michaelis-Menten equation is fitted to the initial velocities $ v_0 $ at different substrate concentrations $ [S] $:\n",
    "\n",
    "$$\n",
    "v_0 = \\frac{V_{max} [S]}{K_m + [S]}\n",
    "$$\n",
    "\n",
    "The fitted parameters $ V_{max} $ and $ K_m $ are obtained using nonlinear regression."
   ]
  },
  {
   "cell_type": "code",
   "execution_count": 7,
   "metadata": {},
   "outputs": [],
   "source": [
    "# Fit Michaelis-Menten equation to initial velocities\n",
    "popt, _ = curve_fit(michaelis_menten, substrate_concentrations, initial_velocities, p0=[V_max, K_m])\n"
   ]
  },
  {
   "cell_type": "code",
   "execution_count": null,
   "metadata": {},
   "outputs": [],
   "source": [
    "\n",
    "# Plot the Michaelis-Menten fit\n",
    "# Define scaling parameter and resolution\n",
    "scaling_factor = 0.8\n",
    "dpi = 300\n",
    "\n",
    "# Plot the Michaelis-Menten fit\n",
    "plt.figure(figsize=(10 * scaling_factor, 6 * scaling_factor), dpi=dpi)\n",
    "plt.scatter(substrate_concentrations, initial_velocities, label='Simulated Data')\n",
    "plt.plot(substrate_concentrations, michaelis_menten(substrate_concentrations, *popt), \n",
    "         label=f'Fit: V_max={popt[0]:.2f}, K_m={popt[1]:.2f}', color='red')\n",
    "plt.xlabel('Substrate Concentration [S] (µM)')\n",
    "plt.ylabel('Initial Velocity v0 (µM/s)')\n",
    "plt.title('Michaelis-Menten Fit')\n",
    "plt.legend()\n",
    "plt.show()\n",
    "\n",
    "# Display the DataFrame\n",
    "print(df.head())"
   ]
  },
  {
   "cell_type": "code",
   "execution_count": null,
   "metadata": {},
   "outputs": [],
   "source": [
    "print(f'Fit: V_max={popt[0]:.2f}, K_m={popt[1]:.2f}')"
   ]
  },
  {
   "cell_type": "code",
   "execution_count": null,
   "metadata": {},
   "outputs": [],
   "source": []
  }
 ],
 "metadata": {
  "kernelspec": {
   "display_name": "lara10",
   "language": "python",
   "name": "python3"
  },
  "language_info": {
   "codemirror_mode": {
    "name": "ipython",
    "version": 3
   },
   "file_extension": ".py",
   "mimetype": "text/x-python",
   "name": "python",
   "nbconvert_exporter": "python",
   "pygments_lexer": "ipython3",
   "version": "3.10.12"
  }
 },
 "nbformat": 4,
 "nbformat_minor": 2
}
