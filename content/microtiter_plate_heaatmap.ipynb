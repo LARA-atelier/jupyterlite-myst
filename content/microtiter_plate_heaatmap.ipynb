{
 "cells": [
  {
   "cell_type": "markdown",
   "id": "85722620",
   "metadata": {},
   "source": [
    "# Heatmap plot of values from microtiter plates\n",
    "\n",
    "This example shows how to create a heatmap plot of values from microtiter plates using the `heatmap` function of `matplotlib`/'seaborn'. \n",
    "The data is taken from a microtiter plate with 96 wells, and the values are represented in a 2D array format. The heatmap will display the values in a color-coded format, where higher values are represented by darker colors. "
   ]
  },
  {
   "cell_type": "markdown",
   "id": "8da808c3",
   "metadata": {},
   "source": [
    "The data is read from an external source with the labDataReader Library, and the heatmap is generated using the `seaborn` library. The x-axis represents the columns of the microtiter plate, while the y-axis represents the rows. The color bar on the right indicates the scale of values.\n",
    "\n",
    "\n",
    "Dataframe created by labDataReader is named 'abs_df' with columns: 'well', 'time', 'absorbance'\n",
    "\n",
    "Example data structure:\n",
    "```\n",
    " abs_df = pd.DataFrame({\n",
    "     'well': ['A1', 'A2', ..., 'H12'],\n",
    "     'datetime': [t1, t2, ..., tn],\n",
    "     'value': [val1, val2, ..., valn]\n",
    " })```\n"
   ]
  },
  {
   "cell_type": "code",
   "execution_count": null,
   "id": "b46a5e34",
   "metadata": {},
   "outputs": [],
   "source": [
    "import pandas as pd\n",
    "import numpy as np\n",
    "import seaborn as sns\n",
    "import matplotlib.pyplot as plt\n",
    "from matplotlib.colors import LinearSegmentedColormap\n",
    "from labdatareader.data_reader import DataReader, read_data"
   ]
  },
  {
   "cell_type": "code",
   "execution_count": null,
   "id": "593041fd",
   "metadata": {},
   "outputs": [],
   "source": [
    "# Create a custom colormap from green to red\n",
    "colors = [\"green\", \"yellow\", \"red\"]\n",
    "cmap = LinearSegmentedColormap.from_list(\"value\", colors)"
   ]
  },
  {
   "cell_type": "code",
   "execution_count": null,
   "id": "70f350f5",
   "metadata": {},
   "outputs": [],
   "source": [
    "abs_data_dir = \"./data\"\n",
    "filename_pattern = \"bcSP0484_20231010_173832_HFA_20231010_Varioskan_SPabs_600.xml\""
   ]
  },
  {
   "cell_type": "code",
   "execution_count": null,
   "id": "f6982082",
   "metadata": {},
   "outputs": [],
   "source": [
    "filename_pattern = \"bcSP0484_20231010_173832_HFA_20231010_Varioskan_SPabs_600.xml\"\n",
    "skanit7_dr = read_data(\n",
    "        method=\"absorbance\",\n",
    "        data_format=\"thermo_skanit7.uv_vis\",\n",
    "        data_path=abs_data_dir,\n",
    "        filename_pattern=filename_pattern,\n",
    "        #metadata_default_core=core_metadata_default,\n",
    "    )"
   ]
  },
  {
   "cell_type": "code",
   "execution_count": null,
   "id": "af68b99b",
   "metadata": {},
   "outputs": [],
   "source": [
    "abs_df = skanit7_dr.dataframe\n",
    "abs_df"
   ]
  },
  {
   "cell_type": "code",
   "execution_count": null,
   "id": "8ef79c41",
   "metadata": {},
   "outputs": [],
   "source": [
    "# Get unique row and column values directly from dataframe\n",
    "# Sorted to ensure proper ordering (A-H, 1-12)\n",
    "rows = sorted(abs_df['row'].unique())\n",
    "cols = sorted(abs_df['column'].unique())"
   ]
  },
  {
   "cell_type": "code",
   "execution_count": null,
   "id": "86def5ee",
   "metadata": {},
   "outputs": [],
   "source": [
    "# Pivot the data to create a matrix for the heatmap\n",
    "\n",
    "# Using the last measurement time (or max/mean as needed)\n",
    "# Using last measurement (can change to max/mean as needed)\n",
    "#  Reindex to ensure all wells are represented (fills missing with NaN)\n",
    "\n",
    "heatmap_data = (abs_df.groupby(['row', 'col'])['value']\n",
    "                .last()  # or .max() or .mean()\n",
    "                .unstack(level=1)\n",
    "                .reindex(index=rows, columns=cols, fill_value=np.nan))\n",
    "\n",
    "heatmap_data\n"
   ]
  },
  {
   "cell_type": "code",
   "execution_count": null,
   "id": "b4974262",
   "metadata": {},
   "outputs": [],
   "source": [
    "# Create the heatmap\n",
    "plt.figure(figsize=(12, 8))\n",
    "ax = sns.heatmap(heatmap_data, \n",
    "                annot=True, \n",
    "                fmt=\".2f\", \n",
    "                cmap=cmap,\n",
    "                cbar_kws={'label': 'Absorbance'},\n",
    "                linewidths=0.5,\n",
    "                linecolor='gray',\n",
    "                square=True)\n",
    "\n",
    "# Customize the plot\n",
    "plt.title('96-Well Plate Absorbance Measurements', fontsize=16)\n",
    "plt.xlabel('Column', fontsize=12)\n",
    "plt.ylabel('Row', fontsize=12)\n",
    "\n",
    "# Improve tick labels\n",
    "# ax.set_xticks([x + 0.5 for x in range(len(cols))])\n",
    "# ax.set_xticklabels(cols)\n",
    "# ax.set_yticks([y + 0.5 for y in range(len(rows))])\n",
    "# ax.set_yticklabels(rows)\n",
    "\n",
    "plt.tight_layout()  # Prevent label cutoff\n",
    "plt.show()"
   ]
  },
  {
   "cell_type": "markdown",
   "id": "1fb53a24",
   "metadata": {},
   "source": [
    "## Code for auto colour scaling\n",
    "\n",
    "Auto-Scaling Options Explained:\n",
    "\n",
    "* Min-Max Scaling (Method 1)\n",
    "\n",
    "    - Simplest approach\n",
    "\n",
    "    - Uses exact data range\n",
    "\n",
    "    - Sensitive to outliers\n",
    "\n",
    "* Percentile Scaling (Method 2) - Recommended\n",
    "\n",
    "    - Uses 5th-95th percentiles\n",
    "\n",
    "    - More robust to outliers\n",
    "\n",
    "    - Shows 90% of your data range\n",
    "\n",
    "* Standard Deviation Scaling (Method 3)\n",
    "\n",
    "    - Good for normally distributed data\n",
    "\n",
    "    - Shows mean ± 2 standard deviations\n",
    "\n",
    "    - Automatically excludes extreme values\n",
    "\n"
   ]
  },
  {
   "cell_type": "code",
   "execution_count": null,
   "id": "f1bb1bb5",
   "metadata": {},
   "outputs": [],
   "source": [
    "# Get data values for scaling\n",
    "values = abs_df['value'].values\n",
    "clean_values = values[~np.isnan(values)]  # Remove NaN values for scaling\n",
    "\n",
    "# Automatic scaling parameters\n",
    "if len(clean_values) > 0:\n",
    "    # Method 1: Simple min-max scaling\n",
    "    vmin = np.min(clean_values)\n",
    "    vmax = np.max(clean_values)\n",
    "    \n",
    "    # Method 2: Percentile-based scaling (robust to outliers)\n",
    "    vmin = np.percentile(clean_values, 5)  # 5th percentile\n",
    "    vmax = np.percentile(clean_values, 95)  # 95th percentile\n",
    "    \n",
    "    # Method 3: Mean ± 2SD (for normally distributed data)\n",
    "    # mean = np.mean(clean_values)\n",
    "    # std = np.std(clean_values)\n",
    "    # vmin = max(0, mean - 2*std)  # Don't go below 0 for absorbance\n",
    "    # vmax = mean + 2*std\n",
    "else:\n",
    "    vmin, vmax = 0, 1  # Default range if no valid data\n",
    "\n",
    "# Create heatmap with auto-scaling\n",
    "plt.figure(figsize=(12, 8))\n",
    "heatmap_data = (abs_df.groupby(['row', 'col'])['value']\n",
    "               .last()\n",
    "               .unstack(level=1))\n",
    "\n",
    "ax = sns.heatmap(heatmap_data,\n",
    "                annot=True,\n",
    "                fmt=\".2f\",\n",
    "                cmap=cmap,\n",
    "                vmin=vmin,\n",
    "                vmax=vmax,\n",
    "                cbar_kws={'label': 'Absorbance'},\n",
    "                linewidths=0.5,\n",
    "                linecolor='gray',\n",
    "                square=True)\n",
    "\n",
    "# Add color range information to title\n",
    "plt.title(f'96-Well Plate Absorbance (Range: {vmin:.2f}-{vmax:.2f})', fontsize=16)\n",
    "plt.xlabel('Column', fontsize=12)\n",
    "plt.ylabel('Row', fontsize=12)\n",
    "\n",
    "# Add center value marker to colorbar\n",
    "cbar = ax.collections[0].colorbar\n",
    "midpoint = (vmin + vmax) / 2\n",
    "cbar.ax.plot([0, 1], [midpoint]*2, 'w', linewidth=2)\n",
    "\n",
    "plt.tight_layout()\n",
    "plt.show()\n"
   ]
  },
  {
   "cell_type": "code",
   "execution_count": null,
   "id": "7c27aefc",
   "metadata": {},
   "outputs": [],
   "source": []
  }
 ],
 "metadata": {
  "kernelspec": {
   "display_name": "lara10",
   "language": "python",
   "name": "python3"
  },
  "language_info": {
   "codemirror_mode": {
    "name": "ipython",
    "version": 3
   },
   "file_extension": ".py",
   "mimetype": "text/x-python",
   "name": "python",
   "nbconvert_exporter": "python",
   "pygments_lexer": "ipython3",
   "version": "3.10.12"
  }
 },
 "nbformat": 4,
 "nbformat_minor": 5
}
