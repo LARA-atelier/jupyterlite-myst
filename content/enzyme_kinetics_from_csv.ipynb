{
 "cells": [
  {
   "cell_type": "markdown",
   "id": "72b15b9e",
   "metadata": {},
   "source": [
    "## Enzyme Kinetics from csv values"
   ]
  },
  {
   "cell_type": "markdown",
   "id": "1f0d3295",
   "metadata": {},
   "source": [
    "This notebook demonstrates how to read enzyme kinetics data from a CSV file and plot a *Michaelis-Menten* curve using matplotlib.\n",
    "\n",
    "Workflow:\n",
    "1. Read the CSV file containing enzyme kinetics data.\n",
    "2. Extract the substrate concentration and reaction rate values.\n",
    "3. Calculate the initial velocities (V0)\n",
    "4. Fit the Michaelis-Menten equation to the data.\n",
    "5. Plot the data and the fitted curve.\n",
    "6. Annotate the plot with the fitted parameters."
   ]
  },
  {
   "cell_type": "code",
   "execution_count": null,
   "id": "9244c009",
   "metadata": {},
   "outputs": [],
   "source": [
    "import numpy as np\n",
    "import pandas as pd\n",
    "import matplotlib.pyplot as plt\n",
    "from scipy.optimize import curve_fit"
   ]
  },
  {
   "cell_type": "code",
   "execution_count": null,
   "id": "35aadf11",
   "metadata": {},
   "outputs": [],
   "source": [
    "\n",
    "# Michaelis-Menten equation\n",
    "def michaelis_menten(S, V_max, K_m):\n",
    "    return (V_max * S) / (K_m + S)\n",
    "\n",
    "# Load external data from CSV\n",
    "def load_external_data(csv_file):\n",
    "    df = pd.read_csv(csv_file)\n",
    "    return df"
   ]
  },
  {
   "cell_type": "code",
   "execution_count": null,
   "id": "475dbb8d",
   "metadata": {},
   "outputs": [],
   "source": [
    "# Constants\n",
    "epsilon = 1000  # Molar absorptivity (M^-1 cm^-1)\n",
    "path_length = 1  # Path length (cm)\n",
    "# Load and process external data\n",
    "csv_file = './data/simulated_absorbance_data.csv'  # Replace with your CSV file path\n",
    "df_external = load_external_data(csv_file)\n",
    "\n",
    "df_external\n"
   ]
  },
  {
   "cell_type": "code",
   "execution_count": null,
   "id": "6c814925",
   "metadata": {},
   "outputs": [],
   "source": [
    "# Calculate initial velocities from external data\n",
    "def calculate_initial_velocities(df, epsilon, path_length):\n",
    "    substrate_concentrations = df['Substrate_Concentration'].unique()\n",
    "    initial_velocities = []\n",
    "    std_velocities = []  # Standard deviation for error bars (if replicates exist)\n",
    "\n",
    "    for S in substrate_concentrations:\n",
    "        subset = df[df['Substrate_Concentration'] == S]\n",
    "        # Convert absorbance to concentration\n",
    "        subset['Concentration'] = subset['Absorbance'] / (epsilon * path_length)\n",
    "        # Calculate initial velocity (slope of concentration vs time)\n",
    "        v0_values = []\n",
    "        for replicate in subset['Replicate'].unique():  # If replicates exist\n",
    "            replicate_data = subset[subset['Replicate'] == replicate]\n",
    "            slope, _ = np.polyfit(replicate_data['Time'], replicate_data['Concentration'], 1)\n",
    "            v0_values.append(slope)\n",
    "        # Store mean and standard deviation of initial velocities\n",
    "        initial_velocities.append(np.mean(v0_values))\n",
    "        std_velocities.append(np.std(v0_values))\n",
    "\n",
    "    return substrate_concentrations, initial_velocities, std_velocities"
   ]
  },
  {
   "cell_type": "code",
   "execution_count": null,
   "id": "7f8c76c4",
   "metadata": {},
   "outputs": [],
   "source": [
    "substrate_concentrations_ext, initial_velocities_ext, std_velocities_ext = calculate_initial_velocities(df_external, epsilon, path_length)"
   ]
  },
  {
   "cell_type": "code",
   "execution_count": null,
   "id": "3cc66e65",
   "metadata": {},
   "outputs": [],
   "source": [
    "substrate_concentrations_ext, initial_velocities_ext, std_velocities_ext"
   ]
  },
  {
   "cell_type": "code",
   "execution_count": null,
   "id": "d7bc0eb2",
   "metadata": {},
   "outputs": [],
   "source": [
    "# Simulated data (from previous code)\n",
    "substrate_concentrations_sim = np.array([10, 20, 50, 100, 200])\n",
    "initial_velocities_sim = [20, 40, 80, 120, 160]  # Example simulated velocities\n",
    "std_velocities_sim = [2, 3, 4, 5, 6]  # Example standard deviations"
   ]
  },
  {
   "cell_type": "code",
   "execution_count": null,
   "id": "db591bb8",
   "metadata": {},
   "outputs": [],
   "source": [
    "\n",
    "# Fit Michaelis-Menten equation to external data\n",
    "popt_ext, _ = curve_fit(michaelis_menten, substrate_concentrations_ext, initial_velocities_ext, p0=[100, 50])\n",
    "\n",
    "# Generate fitted curve for external data\n",
    "S_fit = np.linspace(0, max(substrate_concentrations_ext), 500)\n",
    "v_fit_ext = michaelis_menten(S_fit, *popt_ext)\n",
    "\n",
    "# Plot the Michaelis-Menten fit with external data\n",
    "plt.figure(figsize=(12, 8))\n",
    "\n",
    "# Simulated data (with error bars)\n",
    "plt.errorbar(substrate_concentrations_sim, initial_velocities_sim, yerr=std_velocities_sim, \n",
    "             fmt='o', color='blue', label='Simulated Data (Mean ± SD)', capsize=5)\n",
    "\n",
    "# External data (with error bars)\n",
    "plt.errorbar(substrate_concentrations_ext, initial_velocities_ext, yerr=std_velocities_ext, \n",
    "             fmt='s', color='red', label='External Data (Mean ± SD)', capsize=5)\n",
    "\n",
    "# Fitted curve for external data\n",
    "plt.plot(S_fit, v_fit_ext, 'r--', label=f'External Fit: V_max={popt_ext[0]:.2f}, K_m={popt_ext[1]:.2f}', linewidth=2)\n",
    "\n",
    "plt.xlabel('Substrate Concentration [S] (µM)')\n",
    "plt.ylabel('Initial Velocity v0 (µM/s)')\n",
    "plt.title('Michaelis-Menten Fit with External Data')\n",
    "plt.legend()\n",
    "plt.show()"
   ]
  },
  {
   "cell_type": "code",
   "execution_count": null,
   "id": "8783a083",
   "metadata": {},
   "outputs": [],
   "source": [
    "# save the plot\n",
    "plt.savefig('michaelis_menten_fit_external_data.svg', dpi=300, bbox_inches='tight')"
   ]
  },
  {
   "cell_type": "code",
   "execution_count": null,
   "id": "e4e36430",
   "metadata": {},
   "outputs": [],
   "source": []
  }
 ],
 "metadata": {
  "kernelspec": {
   "display_name": "lara10",
   "language": "python",
   "name": "python3"
  },
  "language_info": {
   "codemirror_mode": {
    "name": "ipython",
    "version": 3
   },
   "file_extension": ".py",
   "mimetype": "text/x-python",
   "name": "python",
   "nbconvert_exporter": "python",
   "pygments_lexer": "ipython3",
   "version": "3.10.12"
  }
 },
 "nbformat": 4,
 "nbformat_minor": 5
}
